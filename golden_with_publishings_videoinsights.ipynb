{
 "cells": [
  {
   "cell_type": "code",
   "execution_count": 17,
   "id": "supreme-lindsay",
   "metadata": {},
   "outputs": [],
   "source": [
    "import pandas as pd"
   ]
  },
  {
   "cell_type": "code",
   "execution_count": 22,
   "id": "promising-density",
   "metadata": {},
   "outputs": [],
   "source": [
    "import mysql.connector"
   ]
  },
  {
   "cell_type": "code",
   "execution_count": 23,
   "id": "spare-premium",
   "metadata": {},
   "outputs": [],
   "source": [
    "cnx = mysql.connector.connect(host = 'mysqlservernewjprod.mysql.database.azure.com', user = \"phantom@mysqlservernewjprod\", password = 'Zurich$1', db = 'fb', port = 3306)"
   ]
  },
  {
   "cell_type": "code",
   "execution_count": 24,
   "id": "opponent-engineering",
   "metadata": {},
   "outputs": [],
   "source": [
    "cursor = cnx.cursor(buffered=True)"
   ]
  },
  {
   "cell_type": "code",
   "execution_count": 25,
   "id": "running-patrol",
   "metadata": {},
   "outputs": [
    {
     "data": {
      "text/plain": [
       "True"
      ]
     },
     "execution_count": 25,
     "metadata": {},
     "output_type": "execute_result"
    }
   ],
   "source": [
    "sql = 'select * from fb.videoinsights where pageName = \"newjplus\";' #sql query for retreiving the data\n",
    "\n",
    "df = pd.read_sql(sql, cnx) # retreive the data\n",
    "\n",
    "df.to_csv('videoinsights.csv', index=False) # save the retreived data locally\n",
    "\n",
    "cursor.close()"
   ]
  },
  {
   "cell_type": "code",
   "execution_count": 26,
   "id": "directed-chicago",
   "metadata": {},
   "outputs": [],
   "source": [
    "golden = pd.read_csv('refined_golden_data.csv')\n",
    "prod = pd.read_csv('production_2021_02_17.csv')\n",
    "video = pd.read_csv('videoinsights.csv')"
   ]
  },
  {
   "cell_type": "code",
   "execution_count": 12,
   "id": "dramatic-parallel",
   "metadata": {},
   "outputs": [
    {
     "data": {
      "text/plain": [
       "Index(['id', 'pitch_id', 'script_id', 'production_id', 'publisher_id',\n",
       "       'video_one_category_id', 'title', 'video_description', 'keywords',\n",
       "       'publisher_comments', 'is_permalink_added', 'publishing_approver_id',\n",
       "       'publishing_status_id', 'is_push_on_paytm', 'is_push_on_zee5',\n",
       "       'is_push_on_public', 'is_push_on_til', 'zee5_pushed_date',\n",
       "       'paytm_pushed_date', 'public_pushed_date', 'til_pushed_date',\n",
       "       'social_copy_publishing', 'is_added_by_universal_id', 'created_at',\n",
       "       'updated_at', 'created_by', 'updated_by', 'primary_video_language_id',\n",
       "       'successful_paytm_post_ids'],\n",
       "      dtype='object')"
      ]
     },
     "execution_count": 12,
     "metadata": {},
     "output_type": "execute_result"
    }
   ],
   "source": [
    "prod.columns"
   ]
  },
  {
   "cell_type": "code",
   "execution_count": 13,
   "id": "massive-earthquake",
   "metadata": {},
   "outputs": [
    {
     "data": {
      "text/plain": [
       "Index(['Permalink', 'title', 'description', 'visual_first_3_seconds',\n",
       "       'background_music_type_first_3_seconds', 'published_time_ist',\n",
       "       'seven_day_views', 'year', 'quarter', 'target',\n",
       "       'Primary_Category_1_grouped', 'Video_Type_1_1_final',\n",
       "       'Video_Type_2_final', 'voice_first_3_seconds_grouped',\n",
       "       'thumbnail_1_grouped', 'thumbnail_sentiment_1_grouped',\n",
       "       'Secondary_Category_1_new', 'Secondary_Category_2_new',\n",
       "       'time_distribution', 'date'],\n",
       "      dtype='object')"
      ]
     },
     "execution_count": 13,
     "metadata": {},
     "output_type": "execute_result"
    }
   ],
   "source": [
    "golden.columns"
   ]
  },
  {
   "cell_type": "code",
   "execution_count": 14,
   "id": "excessive-speaking",
   "metadata": {},
   "outputs": [
    {
     "data": {
      "text/plain": [
       "(0, 48)"
      ]
     },
     "execution_count": 14,
     "metadata": {},
     "output_type": "execute_result"
    }
   ],
   "source": [
    "golden.merge(prod, on = 'title').shape"
   ]
  },
  {
   "cell_type": "code",
   "execution_count": 15,
   "id": "acquired-tradition",
   "metadata": {},
   "outputs": [
    {
     "data": {
      "text/plain": [
       "(3878, 20)"
      ]
     },
     "execution_count": 15,
     "metadata": {},
     "output_type": "execute_result"
    }
   ],
   "source": [
    "golden.shape"
   ]
  },
  {
   "cell_type": "code",
   "execution_count": 16,
   "id": "painted-fields",
   "metadata": {},
   "outputs": [
    {
     "data": {
      "text/plain": [
       "(10447, 29)"
      ]
     },
     "execution_count": 16,
     "metadata": {},
     "output_type": "execute_result"
    }
   ],
   "source": [
    "prod.shape"
   ]
  },
  {
   "cell_type": "code",
   "execution_count": 30,
   "id": "funded-bleeding",
   "metadata": {},
   "outputs": [],
   "source": [
    "new_prod = prod[['pitch_id', 'title', 'video_description']]"
   ]
  },
  {
   "cell_type": "code",
   "execution_count": 31,
   "id": "uniform-treaty",
   "metadata": {},
   "outputs": [],
   "source": [
    "gold_prod = golden.merge(new_prod, left_on = 'description', right_on = 'video_description')"
   ]
  },
  {
   "cell_type": "code",
   "execution_count": 32,
   "id": "asian-champagne",
   "metadata": {},
   "outputs": [
    {
     "data": {
      "text/plain": [
       "(851, 23)"
      ]
     },
     "execution_count": 32,
     "metadata": {},
     "output_type": "execute_result"
    }
   ],
   "source": [
    "gold_prod.shape"
   ]
  },
  {
   "cell_type": "code",
   "execution_count": 34,
   "id": "encouraging-rouge",
   "metadata": {
    "scrolled": true
   },
   "outputs": [
    {
     "data": {
      "text/html": [
       "<div>\n",
       "<style scoped>\n",
       "    .dataframe tbody tr th:only-of-type {\n",
       "        vertical-align: middle;\n",
       "    }\n",
       "\n",
       "    .dataframe tbody tr th {\n",
       "        vertical-align: top;\n",
       "    }\n",
       "\n",
       "    .dataframe thead th {\n",
       "        text-align: right;\n",
       "    }\n",
       "</style>\n",
       "<table border=\"1\" class=\"dataframe\">\n",
       "  <thead>\n",
       "    <tr style=\"text-align: right;\">\n",
       "      <th></th>\n",
       "      <th>Permalink</th>\n",
       "      <th>title_x</th>\n",
       "      <th>description</th>\n",
       "      <th>visual_first_3_seconds</th>\n",
       "      <th>background_music_type_first_3_seconds</th>\n",
       "      <th>published_time_ist</th>\n",
       "      <th>seven_day_views</th>\n",
       "      <th>year</th>\n",
       "      <th>quarter</th>\n",
       "      <th>target</th>\n",
       "      <th>...</th>\n",
       "      <th>voice_first_3_seconds_grouped</th>\n",
       "      <th>thumbnail_1_grouped</th>\n",
       "      <th>thumbnail_sentiment_1_grouped</th>\n",
       "      <th>Secondary_Category_1_new</th>\n",
       "      <th>Secondary_Category_2_new</th>\n",
       "      <th>time_distribution</th>\n",
       "      <th>date</th>\n",
       "      <th>pitch_id</th>\n",
       "      <th>title_y</th>\n",
       "      <th>video_description</th>\n",
       "    </tr>\n",
       "  </thead>\n",
       "  <tbody>\n",
       "    <tr>\n",
       "      <th>0</th>\n",
       "      <td>https://business.facebook.com/watch/?v=6308786...</td>\n",
       "      <td>us president donald trump requests pm narendra...</td>\n",
       "      <td>ट्रंप ने किया पीएम मोदी को फोन, कोरोना से लड़न...</td>\n",
       "      <td>famous personality (fp)</td>\n",
       "      <td>no music</td>\n",
       "      <td>2020-04-06 15:10:00</td>\n",
       "      <td>135264</td>\n",
       "      <td>2020</td>\n",
       "      <td>2</td>\n",
       "      <td>high</td>\n",
       "      <td>...</td>\n",
       "      <td>voice of famous personality(fpv)</td>\n",
       "      <td>famous personality</td>\n",
       "      <td>action</td>\n",
       "      <td>famous personality</td>\n",
       "      <td>rare</td>\n",
       "      <td>3 PM - 6 PM</td>\n",
       "      <td>2020-04-06</td>\n",
       "      <td>12200</td>\n",
       "      <td>US President Donald Trump Requests PM Narendra...</td>\n",
       "      <td>ट्रंप ने किया पीएम मोदी को फोन, कोरोना से लड़न...</td>\n",
       "    </tr>\n",
       "    <tr>\n",
       "      <th>1</th>\n",
       "      <td>https://www.facebook.com/newjplus/posts/262532...</td>\n",
       "      <td>us president donald trump requests pm narendra...</td>\n",
       "      <td>ट्रंप ने किया पीएम मोदी को फोन, कोरोना से लड़न...</td>\n",
       "      <td>famous personality (fp)</td>\n",
       "      <td>no music</td>\n",
       "      <td>2020-04-06 15:10:00</td>\n",
       "      <td>135264</td>\n",
       "      <td>2020</td>\n",
       "      <td>2</td>\n",
       "      <td>high</td>\n",
       "      <td>...</td>\n",
       "      <td>voice of famous personality(fpv)</td>\n",
       "      <td>famous personality</td>\n",
       "      <td>action</td>\n",
       "      <td>health</td>\n",
       "      <td>no_secondary_category</td>\n",
       "      <td>3 PM - 6 PM</td>\n",
       "      <td>2020-04-06</td>\n",
       "      <td>12200</td>\n",
       "      <td>US President Donald Trump Requests PM Narendra...</td>\n",
       "      <td>ट्रंप ने किया पीएम मोदी को फोन, कोरोना से लड़न...</td>\n",
       "    </tr>\n",
       "    <tr>\n",
       "      <th>2</th>\n",
       "      <td>https://business.facebook.com/watch/?v=7335702...</td>\n",
       "      <td>ganga flows cleaner as industrial discharge re...</td>\n",
       "      <td>लॉकडाउन के कारण साफ हुई गंगा-यमुना, बदली नदियो...</td>\n",
       "      <td>other</td>\n",
       "      <td>low</td>\n",
       "      <td>2020-04-07 12:05:00</td>\n",
       "      <td>46277</td>\n",
       "      <td>2020</td>\n",
       "      <td>2</td>\n",
       "      <td>high</td>\n",
       "      <td>...</td>\n",
       "      <td>text only(to)</td>\n",
       "      <td>rare</td>\n",
       "      <td>action</td>\n",
       "      <td>rare</td>\n",
       "      <td>no_secondary_category</td>\n",
       "      <td>12 PM - 03 PM</td>\n",
       "      <td>2020-04-07</td>\n",
       "      <td>12180</td>\n",
       "      <td>Ganga Flows Cleaner As Industrial Discharge Re...</td>\n",
       "      <td>लॉकडाउन के कारण साफ हुई गंगा-यमुना, बदली नदियो...</td>\n",
       "    </tr>\n",
       "    <tr>\n",
       "      <th>3</th>\n",
       "      <td>https://www.facebook.com/newjplus/posts/262605...</td>\n",
       "      <td>ganga flows cleaner as industrial discharge re...</td>\n",
       "      <td>लॉकडाउन के कारण साफ हुई गंगा-यमुना, बदली नदियो...</td>\n",
       "      <td>commoner (np)</td>\n",
       "      <td>loud</td>\n",
       "      <td>2020-04-07 12:05:00</td>\n",
       "      <td>46277</td>\n",
       "      <td>2020</td>\n",
       "      <td>2</td>\n",
       "      <td>high</td>\n",
       "      <td>...</td>\n",
       "      <td>text only(to)</td>\n",
       "      <td>object</td>\n",
       "      <td>neutral</td>\n",
       "      <td>rare</td>\n",
       "      <td>no_secondary_category</td>\n",
       "      <td>12 PM - 03 PM</td>\n",
       "      <td>2020-04-07</td>\n",
       "      <td>12180</td>\n",
       "      <td>Ganga Flows Cleaner As Industrial Discharge Re...</td>\n",
       "      <td>लॉकडाउन के कारण साफ हुई गंगा-यमुना, बदली नदियो...</td>\n",
       "    </tr>\n",
       "    <tr>\n",
       "      <th>4</th>\n",
       "      <td>https://business.facebook.com/newjplus/videos/...</td>\n",
       "      <td>muslim residents from odisha's cuttack pelt st...</td>\n",
       "      <td>कोरोना रक्षक बनी पुलिस पर किसने किया पथराव?</td>\n",
       "      <td>commoner (np)</td>\n",
       "      <td>no music</td>\n",
       "      <td>2020-04-07 15:05:00</td>\n",
       "      <td>20392</td>\n",
       "      <td>2020</td>\n",
       "      <td>2</td>\n",
       "      <td>average</td>\n",
       "      <td>...</td>\n",
       "      <td>commoner voice(optv)</td>\n",
       "      <td>other</td>\n",
       "      <td>action</td>\n",
       "      <td>rare</td>\n",
       "      <td>no_secondary_category</td>\n",
       "      <td>3 PM - 6 PM</td>\n",
       "      <td>2020-04-07</td>\n",
       "      <td>12177</td>\n",
       "      <td>Muslim Residents From Odisha's Cuttack Pelt St...</td>\n",
       "      <td>कोरोना रक्षक बनी पुलिस पर किसने किया पथराव?</td>\n",
       "    </tr>\n",
       "  </tbody>\n",
       "</table>\n",
       "<p>5 rows × 23 columns</p>\n",
       "</div>"
      ],
      "text/plain": [
       "                                           Permalink  \\\n",
       "0  https://business.facebook.com/watch/?v=6308786...   \n",
       "1  https://www.facebook.com/newjplus/posts/262532...   \n",
       "2  https://business.facebook.com/watch/?v=7335702...   \n",
       "3  https://www.facebook.com/newjplus/posts/262605...   \n",
       "4  https://business.facebook.com/newjplus/videos/...   \n",
       "\n",
       "                                             title_x  \\\n",
       "0  us president donald trump requests pm narendra...   \n",
       "1  us president donald trump requests pm narendra...   \n",
       "2  ganga flows cleaner as industrial discharge re...   \n",
       "3  ganga flows cleaner as industrial discharge re...   \n",
       "4  muslim residents from odisha's cuttack pelt st...   \n",
       "\n",
       "                                         description   visual_first_3_seconds  \\\n",
       "0  ट्रंप ने किया पीएम मोदी को फोन, कोरोना से लड़न...  famous personality (fp)   \n",
       "1  ट्रंप ने किया पीएम मोदी को फोन, कोरोना से लड़न...  famous personality (fp)   \n",
       "2  लॉकडाउन के कारण साफ हुई गंगा-यमुना, बदली नदियो...                    other   \n",
       "3  लॉकडाउन के कारण साफ हुई गंगा-यमुना, बदली नदियो...            commoner (np)   \n",
       "4        कोरोना रक्षक बनी पुलिस पर किसने किया पथराव?            commoner (np)   \n",
       "\n",
       "  background_music_type_first_3_seconds   published_time_ist  seven_day_views  \\\n",
       "0                              no music  2020-04-06 15:10:00           135264   \n",
       "1                              no music  2020-04-06 15:10:00           135264   \n",
       "2                                   low  2020-04-07 12:05:00            46277   \n",
       "3                                  loud  2020-04-07 12:05:00            46277   \n",
       "4                              no music  2020-04-07 15:05:00            20392   \n",
       "\n",
       "   year  quarter   target  ...     voice_first_3_seconds_grouped  \\\n",
       "0  2020        2     high  ...  voice of famous personality(fpv)   \n",
       "1  2020        2     high  ...  voice of famous personality(fpv)   \n",
       "2  2020        2     high  ...                     text only(to)   \n",
       "3  2020        2     high  ...                     text only(to)   \n",
       "4  2020        2  average  ...              commoner voice(optv)   \n",
       "\n",
       "  thumbnail_1_grouped thumbnail_sentiment_1_grouped Secondary_Category_1_new  \\\n",
       "0  famous personality                        action       famous personality   \n",
       "1  famous personality                        action                   health   \n",
       "2                rare                        action                     rare   \n",
       "3              object                       neutral                     rare   \n",
       "4               other                        action                     rare   \n",
       "\n",
       "  Secondary_Category_2_new time_distribution        date pitch_id  \\\n",
       "0                     rare       3 PM - 6 PM  2020-04-06    12200   \n",
       "1    no_secondary_category       3 PM - 6 PM  2020-04-06    12200   \n",
       "2    no_secondary_category     12 PM - 03 PM  2020-04-07    12180   \n",
       "3    no_secondary_category     12 PM - 03 PM  2020-04-07    12180   \n",
       "4    no_secondary_category       3 PM - 6 PM  2020-04-07    12177   \n",
       "\n",
       "                                             title_y  \\\n",
       "0  US President Donald Trump Requests PM Narendra...   \n",
       "1  US President Donald Trump Requests PM Narendra...   \n",
       "2  Ganga Flows Cleaner As Industrial Discharge Re...   \n",
       "3  Ganga Flows Cleaner As Industrial Discharge Re...   \n",
       "4  Muslim Residents From Odisha's Cuttack Pelt St...   \n",
       "\n",
       "                                   video_description  \n",
       "0  ट्रंप ने किया पीएम मोदी को फोन, कोरोना से लड़न...  \n",
       "1  ट्रंप ने किया पीएम मोदी को फोन, कोरोना से लड़न...  \n",
       "2  लॉकडाउन के कारण साफ हुई गंगा-यमुना, बदली नदियो...  \n",
       "3  लॉकडाउन के कारण साफ हुई गंगा-यमुना, बदली नदियो...  \n",
       "4        कोरोना रक्षक बनी पुलिस पर किसने किया पथराव?  \n",
       "\n",
       "[5 rows x 23 columns]"
      ]
     },
     "execution_count": 34,
     "metadata": {},
     "output_type": "execute_result"
    }
   ],
   "source": [
    "gold_prod.head()"
   ]
  },
  {
   "cell_type": "code",
   "execution_count": 28,
   "id": "optical-triple",
   "metadata": {
    "scrolled": true
   },
   "outputs": [
    {
     "data": {
      "text/plain": [
       "Index(['id', 'videoId', 'universal_video_id', 'pageId', 'pageName',\n",
       "       'permalink_url', 'title', 'description', 'created_time',\n",
       "       'created_time_zone', 'published_time_ist', 'is_crosspost_video',\n",
       "       'published', 'length', 'total_video_followers', 'total_video_views',\n",
       "       'total_video_views_unique', 'total_video_views_autoplayed',\n",
       "       'total_video_views_clicked_to_play', 'total_video_views_organic',\n",
       "       'total_video_views_organic_unique', 'total_video_views_paid',\n",
       "       'total_video_views_paid_unique', 'total_video_views_sound_on',\n",
       "       'total_video_play_count', 'total_video_consumption_rate',\n",
       "       'total_video_complete_views', 'total_video_complete_views_unique',\n",
       "       'total_video_complete_views_auto_played',\n",
       "       'total_video_complete_views_clicked_to_play',\n",
       "       'total_video_complete_views_organic',\n",
       "       'total_video_complete_views_organic_unique',\n",
       "       'total_video_complete_views_paid',\n",
       "       'total_video_complete_views_paid_unique',\n",
       "       'total_video_15min_excludes_shorter_views',\n",
       "       'total_video_15min_excludes_shorter_views_unique',\n",
       "       'total_video_30s_views', 'total_video_30s_views_unique',\n",
       "       'total_video_30s_views_auto_played',\n",
       "       'total_video_30s_views_clicked_to_play',\n",
       "       'total_video_30s_views_organic', 'total_video_30s_views_paid',\n",
       "       'total_video_10s_views', 'total_video_10s_views_unique',\n",
       "       'total_video_10s_views_auto_played',\n",
       "       'total_video_10s_views_clicked_to_play',\n",
       "       'total_video_10s_views_organic', 'total_video_10s_views_paid',\n",
       "       'total_video_10s_views_sound_on', 'total_video_15s_views',\n",
       "       'total_video_60s_excludes_shorter_views',\n",
       "       'total_video_avg_time_watched', 'total_video_view_total_time',\n",
       "       'total_video_view_total_time_organic',\n",
       "       'total_video_view_total_time_paid', 'total_video_impressions',\n",
       "       'total_video_impressions_unique', 'total_video_impressions_paid_unique',\n",
       "       'total_video_impressions_paid',\n",
       "       'total_video_impressions_organic_unique',\n",
       "       'total_video_impressions_organic',\n",
       "       'total_video_impressions_viral_unique', 'total_video_impressions_viral',\n",
       "       'total_video_impressions_fan_unique', 'total_video_impressions_fan',\n",
       "       'total_video_impressions_fan_paid_unique',\n",
       "       'total_video_impressions_fan_paid',\n",
       "       'total_video_view_time_by_country_id',\n",
       "       'total_video_view_time_by_region_id',\n",
       "       'total_video_view_time_by_age_bucket_and_gender',\n",
       "       'total_video_retention_graph', 'total_video_retention_graph_autoplayed',\n",
       "       'total_video_retention_graph_clicked_to_play',\n",
       "       'total_video_retention_graph_gender_male',\n",
       "       'total_video_retention_graph_gender_female',\n",
       "       'total_video_ad_break_earnings', 'total_video_ad_break_ad_impressions',\n",
       "       'total_video_ad_break_ad_cpm', 'like', 'share', 'comment', 'updated_at',\n",
       "       'created_at', 'universal_added_by', 'universal_updated_at'],\n",
       "      dtype='object')"
      ]
     },
     "execution_count": 28,
     "metadata": {},
     "output_type": "execute_result"
    }
   ],
   "source": [
    "video.columns"
   ]
  },
  {
   "cell_type": "code",
   "execution_count": 37,
   "id": "compact-attention",
   "metadata": {},
   "outputs": [],
   "source": [
    "new_video = video[['universal_video_id', 'title', 'description']]"
   ]
  },
  {
   "cell_type": "code",
   "execution_count": 38,
   "id": "interpreted-bacteria",
   "metadata": {},
   "outputs": [],
   "source": [
    "gold_video = golden.merge(new_video, on = 'description')"
   ]
  },
  {
   "cell_type": "code",
   "execution_count": 39,
   "id": "structured-galaxy",
   "metadata": {},
   "outputs": [
    {
     "data": {
      "text/plain": [
       "(2210, 22)"
      ]
     },
     "execution_count": 39,
     "metadata": {},
     "output_type": "execute_result"
    }
   ],
   "source": [
    "gold_video.shape"
   ]
  },
  {
   "cell_type": "code",
   "execution_count": 40,
   "id": "substantial-kentucky",
   "metadata": {},
   "outputs": [
    {
     "data": {
      "text/plain": [
       "Index(['Permalink', 'title_x', 'description', 'visual_first_3_seconds',\n",
       "       'background_music_type_first_3_seconds', 'published_time_ist',\n",
       "       'seven_day_views', 'year', 'quarter', 'target',\n",
       "       'Primary_Category_1_grouped', 'Video_Type_1_1_final',\n",
       "       'Video_Type_2_final', 'voice_first_3_seconds_grouped',\n",
       "       'thumbnail_1_grouped', 'thumbnail_sentiment_1_grouped',\n",
       "       'Secondary_Category_1_new', 'Secondary_Category_2_new',\n",
       "       'time_distribution', 'date', 'universal_video_id', 'title_y'],\n",
       "      dtype='object')"
      ]
     },
     "execution_count": 40,
     "metadata": {},
     "output_type": "execute_result"
    }
   ],
   "source": [
    "gold_video.columns"
   ]
  },
  {
   "cell_type": "code",
   "execution_count": 33,
   "id": "shaped-carpet",
   "metadata": {},
   "outputs": [
    {
     "data": {
      "text/plain": [
       "Index(['Permalink', 'title_x', 'description', 'visual_first_3_seconds',\n",
       "       'background_music_type_first_3_seconds', 'published_time_ist',\n",
       "       'seven_day_views', 'year', 'quarter', 'target',\n",
       "       'Primary_Category_1_grouped', 'Video_Type_1_1_final',\n",
       "       'Video_Type_2_final', 'voice_first_3_seconds_grouped',\n",
       "       'thumbnail_1_grouped', 'thumbnail_sentiment_1_grouped',\n",
       "       'Secondary_Category_1_new', 'Secondary_Category_2_new',\n",
       "       'time_distribution', 'date', 'pitch_id', 'title_y',\n",
       "       'video_description'],\n",
       "      dtype='object')"
      ]
     },
     "execution_count": 33,
     "metadata": {},
     "output_type": "execute_result"
    }
   ],
   "source": [
    "gold_prod.columns"
   ]
  },
  {
   "cell_type": "code",
   "execution_count": 41,
   "id": "august-revision",
   "metadata": {},
   "outputs": [],
   "source": [
    "gold_prod.drop('video_description', axis = 1, inplace = True)"
   ]
  },
  {
   "cell_type": "code",
   "execution_count": 43,
   "id": "resident-theta",
   "metadata": {},
   "outputs": [],
   "source": [
    "gold_prod.rename(columns = {'pitch_id': 'universal_video_id'}, inplace = True)"
   ]
  },
  {
   "cell_type": "code",
   "execution_count": 44,
   "id": "convenient-anime",
   "metadata": {},
   "outputs": [
    {
     "data": {
      "text/plain": [
       "array([ True,  True,  True,  True,  True,  True,  True,  True,  True,\n",
       "        True,  True,  True,  True,  True,  True,  True,  True,  True,\n",
       "        True,  True,  True,  True])"
      ]
     },
     "execution_count": 44,
     "metadata": {},
     "output_type": "execute_result"
    }
   ],
   "source": [
    "gold_prod.columns == gold_video.columns"
   ]
  },
  {
   "cell_type": "code",
   "execution_count": 46,
   "id": "dramatic-science",
   "metadata": {},
   "outputs": [],
   "source": [
    "gold_with_uid = pd.concat([gold_prod, gold_video], axis = 0)"
   ]
  },
  {
   "cell_type": "code",
   "execution_count": 47,
   "id": "bound-johns",
   "metadata": {},
   "outputs": [
    {
     "data": {
      "text/plain": [
       "(3061, 22)"
      ]
     },
     "execution_count": 47,
     "metadata": {},
     "output_type": "execute_result"
    }
   ],
   "source": [
    "gold_with_uid.shape"
   ]
  },
  {
   "cell_type": "code",
   "execution_count": 48,
   "id": "designed-brisbane",
   "metadata": {},
   "outputs": [
    {
     "data": {
      "text/plain": [
       "Permalink                                  0\n",
       "title_x                                    0\n",
       "description                                0\n",
       "visual_first_3_seconds                     0\n",
       "background_music_type_first_3_seconds      0\n",
       "published_time_ist                         0\n",
       "seven_day_views                            0\n",
       "year                                       0\n",
       "quarter                                    0\n",
       "target                                     0\n",
       "Primary_Category_1_grouped                 0\n",
       "Video_Type_1_1_final                       0\n",
       "Video_Type_2_final                         0\n",
       "voice_first_3_seconds_grouped              0\n",
       "thumbnail_1_grouped                        0\n",
       "thumbnail_sentiment_1_grouped              0\n",
       "Secondary_Category_1_new                   0\n",
       "Secondary_Category_2_new                   0\n",
       "time_distribution                          0\n",
       "date                                       0\n",
       "universal_video_id                       679\n",
       "title_y                                    0\n",
       "dtype: int64"
      ]
     },
     "execution_count": 48,
     "metadata": {},
     "output_type": "execute_result"
    }
   ],
   "source": [
    "gold_with_uid.isnull().sum()"
   ]
  },
  {
   "cell_type": "code",
   "execution_count": 56,
   "id": "respected-walker",
   "metadata": {},
   "outputs": [],
   "source": [
    "gold_with_uid.dropna(subset = ['universal_video_id'], inplace = True)"
   ]
  },
  {
   "cell_type": "code",
   "execution_count": 62,
   "id": "based-evidence",
   "metadata": {
    "scrolled": true
   },
   "outputs": [
    {
     "data": {
      "text/html": [
       "<div>\n",
       "<style scoped>\n",
       "    .dataframe tbody tr th:only-of-type {\n",
       "        vertical-align: middle;\n",
       "    }\n",
       "\n",
       "    .dataframe tbody tr th {\n",
       "        vertical-align: top;\n",
       "    }\n",
       "\n",
       "    .dataframe thead th {\n",
       "        text-align: right;\n",
       "    }\n",
       "</style>\n",
       "<table border=\"1\" class=\"dataframe\">\n",
       "  <thead>\n",
       "    <tr style=\"text-align: right;\">\n",
       "      <th></th>\n",
       "      <th>Permalink</th>\n",
       "      <th>title_x</th>\n",
       "      <th>description</th>\n",
       "      <th>visual_first_3_seconds</th>\n",
       "      <th>background_music_type_first_3_seconds</th>\n",
       "      <th>published_time_ist</th>\n",
       "      <th>seven_day_views</th>\n",
       "      <th>year</th>\n",
       "      <th>quarter</th>\n",
       "      <th>target</th>\n",
       "      <th>...</th>\n",
       "      <th>Video_Type_2_final</th>\n",
       "      <th>voice_first_3_seconds_grouped</th>\n",
       "      <th>thumbnail_1_grouped</th>\n",
       "      <th>thumbnail_sentiment_1_grouped</th>\n",
       "      <th>Secondary_Category_1_new</th>\n",
       "      <th>Secondary_Category_2_new</th>\n",
       "      <th>time_distribution</th>\n",
       "      <th>date</th>\n",
       "      <th>universal_video_id</th>\n",
       "      <th>title_y</th>\n",
       "    </tr>\n",
       "  </thead>\n",
       "  <tbody>\n",
       "    <tr>\n",
       "      <th>454</th>\n",
       "      <td>https://www.facebook.com/1954072204870360/post...</td>\n",
       "      <td>this kitchen in shirdi serves around 40,000 de...</td>\n",
       "      <td>इस kitchen में  बनता है लगभग 40,000 लोगों का खाना</td>\n",
       "      <td>commoner (np)</td>\n",
       "      <td>relevant</td>\n",
       "      <td>2019-06-30 12:05:00</td>\n",
       "      <td>918445</td>\n",
       "      <td>2019</td>\n",
       "      <td>2</td>\n",
       "      <td>high</td>\n",
       "      <td>...</td>\n",
       "      <td>rare</td>\n",
       "      <td>text only(to)</td>\n",
       "      <td>object</td>\n",
       "      <td>action</td>\n",
       "      <td>rare</td>\n",
       "      <td>no_secondary_category</td>\n",
       "      <td>12 PM - 03 PM</td>\n",
       "      <td>2019-06-30</td>\n",
       "      <td>1054.0</td>\n",
       "      <td>This Kitchen In Shirdi Serves Around 40,000 De...</td>\n",
       "    </tr>\n",
       "    <tr>\n",
       "      <th>455</th>\n",
       "      <td>https://www.facebook.com/1954072204870360/post...</td>\n",
       "      <td>this kitchen in shirdi serves around 40,000 de...</td>\n",
       "      <td>इस kitchen में  बनता है लगभग 40,000 लोगों का खाना</td>\n",
       "      <td>commoner (np)</td>\n",
       "      <td>relevant</td>\n",
       "      <td>2019-06-30 12:05:00</td>\n",
       "      <td>918445</td>\n",
       "      <td>2019</td>\n",
       "      <td>2</td>\n",
       "      <td>high</td>\n",
       "      <td>...</td>\n",
       "      <td>rare</td>\n",
       "      <td>text only(to)</td>\n",
       "      <td>object</td>\n",
       "      <td>action</td>\n",
       "      <td>rare</td>\n",
       "      <td>no_secondary_category</td>\n",
       "      <td>12 PM - 03 PM</td>\n",
       "      <td>2019-06-30</td>\n",
       "      <td>1054.0</td>\n",
       "      <td>This Kitchen In Shirdi Serves Around 40,000 De...</td>\n",
       "    </tr>\n",
       "    <tr>\n",
       "      <th>456</th>\n",
       "      <td>https://www.facebook.com/1954072204870360/post...</td>\n",
       "      <td>this kitchen in shirdi serves around 40,000 de...</td>\n",
       "      <td>इस kitchen में  बनता है लगभग 40,000 लोगों का खाना</td>\n",
       "      <td>commoner (np)</td>\n",
       "      <td>relevant</td>\n",
       "      <td>2019-08-11 12:05:34</td>\n",
       "      <td>124210</td>\n",
       "      <td>2019</td>\n",
       "      <td>3</td>\n",
       "      <td>high</td>\n",
       "      <td>...</td>\n",
       "      <td>rare</td>\n",
       "      <td>text only(to)</td>\n",
       "      <td>object</td>\n",
       "      <td>action</td>\n",
       "      <td>rare</td>\n",
       "      <td>no_secondary_category</td>\n",
       "      <td>12 PM - 03 PM</td>\n",
       "      <td>2019-08-11</td>\n",
       "      <td>1054.0</td>\n",
       "      <td>This Kitchen In Shirdi Serves Around 40,000 De...</td>\n",
       "    </tr>\n",
       "    <tr>\n",
       "      <th>457</th>\n",
       "      <td>https://www.facebook.com/1954072204870360/post...</td>\n",
       "      <td>this kitchen in shirdi serves around 40,000 de...</td>\n",
       "      <td>इस kitchen में  बनता है लगभग 40,000 लोगों का खाना</td>\n",
       "      <td>commoner (np)</td>\n",
       "      <td>relevant</td>\n",
       "      <td>2019-08-11 12:05:34</td>\n",
       "      <td>124210</td>\n",
       "      <td>2019</td>\n",
       "      <td>3</td>\n",
       "      <td>high</td>\n",
       "      <td>...</td>\n",
       "      <td>rare</td>\n",
       "      <td>text only(to)</td>\n",
       "      <td>object</td>\n",
       "      <td>action</td>\n",
       "      <td>rare</td>\n",
       "      <td>no_secondary_category</td>\n",
       "      <td>12 PM - 03 PM</td>\n",
       "      <td>2019-08-11</td>\n",
       "      <td>1054.0</td>\n",
       "      <td>This Kitchen In Shirdi Serves Around 40,000 De...</td>\n",
       "    </tr>\n",
       "    <tr>\n",
       "      <th>462</th>\n",
       "      <td>https://www.facebook.com/1954072204870360/post...</td>\n",
       "      <td>this kitchen in shirdi serves around 40,000 de...</td>\n",
       "      <td>इस kitchen में बनता है लगभग 40,000 लोगों का खाना</td>\n",
       "      <td>commoner (np)</td>\n",
       "      <td>relevant</td>\n",
       "      <td>2019-12-12 15:00:08</td>\n",
       "      <td>535768</td>\n",
       "      <td>2019</td>\n",
       "      <td>4</td>\n",
       "      <td>high</td>\n",
       "      <td>...</td>\n",
       "      <td>rare</td>\n",
       "      <td>text only(to)</td>\n",
       "      <td>object</td>\n",
       "      <td>action</td>\n",
       "      <td>rare</td>\n",
       "      <td>no_secondary_category</td>\n",
       "      <td>3 PM - 6 PM</td>\n",
       "      <td>2019-12-12</td>\n",
       "      <td>1054.0</td>\n",
       "      <td>This Kitchen In Shirdi Serves Around 40,000 De...</td>\n",
       "    </tr>\n",
       "    <tr>\n",
       "      <th>...</th>\n",
       "      <td>...</td>\n",
       "      <td>...</td>\n",
       "      <td>...</td>\n",
       "      <td>...</td>\n",
       "      <td>...</td>\n",
       "      <td>...</td>\n",
       "      <td>...</td>\n",
       "      <td>...</td>\n",
       "      <td>...</td>\n",
       "      <td>...</td>\n",
       "      <td>...</td>\n",
       "      <td>...</td>\n",
       "      <td>...</td>\n",
       "      <td>...</td>\n",
       "      <td>...</td>\n",
       "      <td>...</td>\n",
       "      <td>...</td>\n",
       "      <td>...</td>\n",
       "      <td>...</td>\n",
       "      <td>...</td>\n",
       "      <td>...</td>\n",
       "    </tr>\n",
       "    <tr>\n",
       "      <th>2171</th>\n",
       "      <td>https://www.facebook.com/1954072204870360/post...</td>\n",
       "      <td>new world record for opening 68 soda bottles i...</td>\n",
       "      <td>देखिए किस तरह इस शख्स ने अपने सिर से 1 मिनट मे...</td>\n",
       "      <td>commoner (np)</td>\n",
       "      <td>no music</td>\n",
       "      <td>2020-11-28 14:19:00</td>\n",
       "      <td>12510</td>\n",
       "      <td>2020</td>\n",
       "      <td>4</td>\n",
       "      <td>low</td>\n",
       "      <td>...</td>\n",
       "      <td>rare</td>\n",
       "      <td>commoner voice(optv)</td>\n",
       "      <td>commoner</td>\n",
       "      <td>action</td>\n",
       "      <td>person specific</td>\n",
       "      <td>no_secondary_category</td>\n",
       "      <td>12 PM - 03 PM</td>\n",
       "      <td>2020-11-28</td>\n",
       "      <td>21656.0</td>\n",
       "      <td>New World Record For Opening 68 Soda Bottles I...</td>\n",
       "    </tr>\n",
       "    <tr>\n",
       "      <th>2118</th>\n",
       "      <td>https://www.facebook.com/1954072204870360/post...</td>\n",
       "      <td>bengaluru boy dipen proposes to aussie girlfri...</td>\n",
       "      <td>मिलिए सिडनी मैच के दौरान अपनी ऑस्ट्रेलियन गर्ल...</td>\n",
       "      <td>commoner (np)</td>\n",
       "      <td>relevant</td>\n",
       "      <td>2020-11-30 15:54:00</td>\n",
       "      <td>41976</td>\n",
       "      <td>2020</td>\n",
       "      <td>4</td>\n",
       "      <td>average</td>\n",
       "      <td>...</td>\n",
       "      <td>emotions</td>\n",
       "      <td>text only(to)</td>\n",
       "      <td>commoner</td>\n",
       "      <td>happy</td>\n",
       "      <td>cricket</td>\n",
       "      <td>person specific</td>\n",
       "      <td>3 PM - 6 PM</td>\n",
       "      <td>2020-11-30</td>\n",
       "      <td>21773.0</td>\n",
       "      <td>Bengaluru Boy Dipen Proposes To Aussie Girlfri...</td>\n",
       "    </tr>\n",
       "    <tr>\n",
       "      <th>2153</th>\n",
       "      <td>https://www.facebook.com/1954072204870360/post...</td>\n",
       "      <td>mother-daughter duo sing happy birthday song i...</td>\n",
       "      <td>नन्हीं सी उम्र में इस बच्ची ने अपनी मां के साथ...</td>\n",
       "      <td>commoner (np)</td>\n",
       "      <td>low</td>\n",
       "      <td>2020-11-30 20:19:00</td>\n",
       "      <td>9548</td>\n",
       "      <td>2020</td>\n",
       "      <td>4</td>\n",
       "      <td>low</td>\n",
       "      <td>...</td>\n",
       "      <td>rare</td>\n",
       "      <td>commoner voice(optv)</td>\n",
       "      <td>commoner</td>\n",
       "      <td>happy</td>\n",
       "      <td>rare</td>\n",
       "      <td>rare</td>\n",
       "      <td>6 PM - 9 PM</td>\n",
       "      <td>2020-11-30</td>\n",
       "      <td>21797.0</td>\n",
       "      <td>Mother-Daughter Duo Sing Happy Birthday Song I...</td>\n",
       "    </tr>\n",
       "    <tr>\n",
       "      <th>1567</th>\n",
       "      <td>https://www.facebook.com/1954072204870360/post...</td>\n",
       "      <td>man shot dead in delhi's dwarka, assailant cli...</td>\n",
       "      <td>दिल्ली में सरेआम शख्स के शरीर में उतार दी दो ग...</td>\n",
       "      <td>commoner (np)</td>\n",
       "      <td>no music</td>\n",
       "      <td>2020-10-28 15:59:29</td>\n",
       "      <td>375577</td>\n",
       "      <td>2020</td>\n",
       "      <td>4</td>\n",
       "      <td>high</td>\n",
       "      <td>...</td>\n",
       "      <td>rare</td>\n",
       "      <td>text only(to)</td>\n",
       "      <td>commoner</td>\n",
       "      <td>action</td>\n",
       "      <td>rare</td>\n",
       "      <td>internet sensation</td>\n",
       "      <td>3 PM - 6 PM</td>\n",
       "      <td>2020-10-28</td>\n",
       "      <td>22068.0</td>\n",
       "      <td>Man Shot Dead In Delhi's Dwarka, Assailant Cli...</td>\n",
       "    </tr>\n",
       "    <tr>\n",
       "      <th>1692</th>\n",
       "      <td>https://www.facebook.com/1954072204870360/post...</td>\n",
       "      <td>india's gem: atal bihari vajpayee</td>\n",
       "      <td>पुण्यतिथि विशेष : भारत के अनमोल रत्न, अटल बिहा...</td>\n",
       "      <td>famous personality (fp)</td>\n",
       "      <td>no music</td>\n",
       "      <td>2020-08-16 10:05:16</td>\n",
       "      <td>76386</td>\n",
       "      <td>2020</td>\n",
       "      <td>3</td>\n",
       "      <td>high</td>\n",
       "      <td>...</td>\n",
       "      <td>rare</td>\n",
       "      <td>voice of famous personality(fpv)</td>\n",
       "      <td>famous personality</td>\n",
       "      <td>action</td>\n",
       "      <td>political</td>\n",
       "      <td>famous personality</td>\n",
       "      <td>9 AM - 12 PM</td>\n",
       "      <td>2020-08-16</td>\n",
       "      <td>22673.0</td>\n",
       "      <td>India's Gem: Atal Bihari Vajpayee</td>\n",
       "    </tr>\n",
       "  </tbody>\n",
       "</table>\n",
       "<p>936 rows × 22 columns</p>\n",
       "</div>"
      ],
      "text/plain": [
       "                                              Permalink  \\\n",
       "454   https://www.facebook.com/1954072204870360/post...   \n",
       "455   https://www.facebook.com/1954072204870360/post...   \n",
       "456   https://www.facebook.com/1954072204870360/post...   \n",
       "457   https://www.facebook.com/1954072204870360/post...   \n",
       "462   https://www.facebook.com/1954072204870360/post...   \n",
       "...                                                 ...   \n",
       "2171  https://www.facebook.com/1954072204870360/post...   \n",
       "2118  https://www.facebook.com/1954072204870360/post...   \n",
       "2153  https://www.facebook.com/1954072204870360/post...   \n",
       "1567  https://www.facebook.com/1954072204870360/post...   \n",
       "1692  https://www.facebook.com/1954072204870360/post...   \n",
       "\n",
       "                                                title_x  \\\n",
       "454   this kitchen in shirdi serves around 40,000 de...   \n",
       "455   this kitchen in shirdi serves around 40,000 de...   \n",
       "456   this kitchen in shirdi serves around 40,000 de...   \n",
       "457   this kitchen in shirdi serves around 40,000 de...   \n",
       "462   this kitchen in shirdi serves around 40,000 de...   \n",
       "...                                                 ...   \n",
       "2171  new world record for opening 68 soda bottles i...   \n",
       "2118  bengaluru boy dipen proposes to aussie girlfri...   \n",
       "2153  mother-daughter duo sing happy birthday song i...   \n",
       "1567  man shot dead in delhi's dwarka, assailant cli...   \n",
       "1692                  india's gem: atal bihari vajpayee   \n",
       "\n",
       "                                            description  \\\n",
       "454   इस kitchen में  बनता है लगभग 40,000 लोगों का खाना   \n",
       "455   इस kitchen में  बनता है लगभग 40,000 लोगों का खाना   \n",
       "456   इस kitchen में  बनता है लगभग 40,000 लोगों का खाना   \n",
       "457   इस kitchen में  बनता है लगभग 40,000 लोगों का खाना   \n",
       "462    इस kitchen में बनता है लगभग 40,000 लोगों का खाना   \n",
       "...                                                 ...   \n",
       "2171  देखिए किस तरह इस शख्स ने अपने सिर से 1 मिनट मे...   \n",
       "2118  मिलिए सिडनी मैच के दौरान अपनी ऑस्ट्रेलियन गर्ल...   \n",
       "2153  नन्हीं सी उम्र में इस बच्ची ने अपनी मां के साथ...   \n",
       "1567  दिल्ली में सरेआम शख्स के शरीर में उतार दी दो ग...   \n",
       "1692  पुण्यतिथि विशेष : भारत के अनमोल रत्न, अटल बिहा...   \n",
       "\n",
       "       visual_first_3_seconds background_music_type_first_3_seconds  \\\n",
       "454             commoner (np)                              relevant   \n",
       "455             commoner (np)                              relevant   \n",
       "456             commoner (np)                              relevant   \n",
       "457             commoner (np)                              relevant   \n",
       "462             commoner (np)                              relevant   \n",
       "...                       ...                                   ...   \n",
       "2171            commoner (np)                              no music   \n",
       "2118            commoner (np)                              relevant   \n",
       "2153            commoner (np)                                   low   \n",
       "1567            commoner (np)                              no music   \n",
       "1692  famous personality (fp)                              no music   \n",
       "\n",
       "       published_time_ist  seven_day_views  year  quarter   target  ...  \\\n",
       "454   2019-06-30 12:05:00           918445  2019        2     high  ...   \n",
       "455   2019-06-30 12:05:00           918445  2019        2     high  ...   \n",
       "456   2019-08-11 12:05:34           124210  2019        3     high  ...   \n",
       "457   2019-08-11 12:05:34           124210  2019        3     high  ...   \n",
       "462   2019-12-12 15:00:08           535768  2019        4     high  ...   \n",
       "...                   ...              ...   ...      ...      ...  ...   \n",
       "2171  2020-11-28 14:19:00            12510  2020        4      low  ...   \n",
       "2118  2020-11-30 15:54:00            41976  2020        4  average  ...   \n",
       "2153  2020-11-30 20:19:00             9548  2020        4      low  ...   \n",
       "1567  2020-10-28 15:59:29           375577  2020        4     high  ...   \n",
       "1692  2020-08-16 10:05:16            76386  2020        3     high  ...   \n",
       "\n",
       "     Video_Type_2_final     voice_first_3_seconds_grouped thumbnail_1_grouped  \\\n",
       "454                rare                     text only(to)              object   \n",
       "455                rare                     text only(to)              object   \n",
       "456                rare                     text only(to)              object   \n",
       "457                rare                     text only(to)              object   \n",
       "462                rare                     text only(to)              object   \n",
       "...                 ...                               ...                 ...   \n",
       "2171               rare              commoner voice(optv)            commoner   \n",
       "2118           emotions                     text only(to)            commoner   \n",
       "2153               rare              commoner voice(optv)            commoner   \n",
       "1567               rare                     text only(to)            commoner   \n",
       "1692               rare  voice of famous personality(fpv)  famous personality   \n",
       "\n",
       "     thumbnail_sentiment_1_grouped Secondary_Category_1_new  \\\n",
       "454                         action                     rare   \n",
       "455                         action                     rare   \n",
       "456                         action                     rare   \n",
       "457                         action                     rare   \n",
       "462                         action                     rare   \n",
       "...                            ...                      ...   \n",
       "2171                        action          person specific   \n",
       "2118                         happy                  cricket   \n",
       "2153                         happy                     rare   \n",
       "1567                        action                     rare   \n",
       "1692                        action                political   \n",
       "\n",
       "     Secondary_Category_2_new time_distribution        date  \\\n",
       "454     no_secondary_category     12 PM - 03 PM  2019-06-30   \n",
       "455     no_secondary_category     12 PM - 03 PM  2019-06-30   \n",
       "456     no_secondary_category     12 PM - 03 PM  2019-08-11   \n",
       "457     no_secondary_category     12 PM - 03 PM  2019-08-11   \n",
       "462     no_secondary_category       3 PM - 6 PM  2019-12-12   \n",
       "...                       ...               ...         ...   \n",
       "2171    no_secondary_category     12 PM - 03 PM  2020-11-28   \n",
       "2118          person specific       3 PM - 6 PM  2020-11-30   \n",
       "2153                     rare       6 PM - 9 PM  2020-11-30   \n",
       "1567       internet sensation       3 PM - 6 PM  2020-10-28   \n",
       "1692       famous personality      9 AM - 12 PM  2020-08-16   \n",
       "\n",
       "     universal_video_id                                            title_y  \n",
       "454              1054.0  This Kitchen In Shirdi Serves Around 40,000 De...  \n",
       "455              1054.0  This Kitchen In Shirdi Serves Around 40,000 De...  \n",
       "456              1054.0  This Kitchen In Shirdi Serves Around 40,000 De...  \n",
       "457              1054.0  This Kitchen In Shirdi Serves Around 40,000 De...  \n",
       "462              1054.0  This Kitchen In Shirdi Serves Around 40,000 De...  \n",
       "...                 ...                                                ...  \n",
       "2171            21656.0  New World Record For Opening 68 Soda Bottles I...  \n",
       "2118            21773.0  Bengaluru Boy Dipen Proposes To Aussie Girlfri...  \n",
       "2153            21797.0  Mother-Daughter Duo Sing Happy Birthday Song I...  \n",
       "1567            22068.0  Man Shot Dead In Delhi's Dwarka, Assailant Cli...  \n",
       "1692            22673.0                  India's Gem: Atal Bihari Vajpayee  \n",
       "\n",
       "[936 rows x 22 columns]"
      ]
     },
     "execution_count": 62,
     "metadata": {},
     "output_type": "execute_result"
    }
   ],
   "source": [
    "gold_with_uid[gold_with_uid.duplicated(subset = ['universal_video_id'], keep = 'first')].sort_values('universal_video_id')"
   ]
  },
  {
   "cell_type": "code",
   "execution_count": 64,
   "id": "surprising-warning",
   "metadata": {},
   "outputs": [],
   "source": [
    "gold_with_uid.drop_duplicates(subset = ['universal_video_id'], inplace = True)"
   ]
  },
  {
   "cell_type": "code",
   "execution_count": 66,
   "id": "colonial-anger",
   "metadata": {},
   "outputs": [
    {
     "data": {
      "text/plain": [
       "(1446, 22)"
      ]
     },
     "execution_count": 66,
     "metadata": {},
     "output_type": "execute_result"
    }
   ],
   "source": [
    "gold_with_uid.shape"
   ]
  },
  {
   "cell_type": "code",
   "execution_count": 65,
   "id": "binding-diagnosis",
   "metadata": {
    "scrolled": true
   },
   "outputs": [
    {
     "data": {
      "text/html": [
       "<div>\n",
       "<style scoped>\n",
       "    .dataframe tbody tr th:only-of-type {\n",
       "        vertical-align: middle;\n",
       "    }\n",
       "\n",
       "    .dataframe tbody tr th {\n",
       "        vertical-align: top;\n",
       "    }\n",
       "\n",
       "    .dataframe thead th {\n",
       "        text-align: right;\n",
       "    }\n",
       "</style>\n",
       "<table border=\"1\" class=\"dataframe\">\n",
       "  <thead>\n",
       "    <tr style=\"text-align: right;\">\n",
       "      <th></th>\n",
       "      <th>Permalink</th>\n",
       "      <th>title_x</th>\n",
       "      <th>description</th>\n",
       "      <th>visual_first_3_seconds</th>\n",
       "      <th>background_music_type_first_3_seconds</th>\n",
       "      <th>published_time_ist</th>\n",
       "      <th>seven_day_views</th>\n",
       "      <th>year</th>\n",
       "      <th>quarter</th>\n",
       "      <th>target</th>\n",
       "      <th>...</th>\n",
       "      <th>Video_Type_2_final</th>\n",
       "      <th>voice_first_3_seconds_grouped</th>\n",
       "      <th>thumbnail_1_grouped</th>\n",
       "      <th>thumbnail_sentiment_1_grouped</th>\n",
       "      <th>Secondary_Category_1_new</th>\n",
       "      <th>Secondary_Category_2_new</th>\n",
       "      <th>time_distribution</th>\n",
       "      <th>date</th>\n",
       "      <th>universal_video_id</th>\n",
       "      <th>title_y</th>\n",
       "    </tr>\n",
       "  </thead>\n",
       "  <tbody>\n",
       "    <tr>\n",
       "      <th>0</th>\n",
       "      <td>https://business.facebook.com/watch/?v=6308786...</td>\n",
       "      <td>us president donald trump requests pm narendra...</td>\n",
       "      <td>ट्रंप ने किया पीएम मोदी को फोन, कोरोना से लड़न...</td>\n",
       "      <td>famous personality (fp)</td>\n",
       "      <td>no music</td>\n",
       "      <td>2020-04-06 15:10:00</td>\n",
       "      <td>135264</td>\n",
       "      <td>2020</td>\n",
       "      <td>2</td>\n",
       "      <td>high</td>\n",
       "      <td>...</td>\n",
       "      <td>rare</td>\n",
       "      <td>voice of famous personality(fpv)</td>\n",
       "      <td>famous personality</td>\n",
       "      <td>action</td>\n",
       "      <td>famous personality</td>\n",
       "      <td>rare</td>\n",
       "      <td>3 PM - 6 PM</td>\n",
       "      <td>2020-04-06</td>\n",
       "      <td>12200.0</td>\n",
       "      <td>US President Donald Trump Requests PM Narendra...</td>\n",
       "    </tr>\n",
       "    <tr>\n",
       "      <th>2</th>\n",
       "      <td>https://business.facebook.com/watch/?v=7335702...</td>\n",
       "      <td>ganga flows cleaner as industrial discharge re...</td>\n",
       "      <td>लॉकडाउन के कारण साफ हुई गंगा-यमुना, बदली नदियो...</td>\n",
       "      <td>other</td>\n",
       "      <td>low</td>\n",
       "      <td>2020-04-07 12:05:00</td>\n",
       "      <td>46277</td>\n",
       "      <td>2020</td>\n",
       "      <td>2</td>\n",
       "      <td>high</td>\n",
       "      <td>...</td>\n",
       "      <td>rare</td>\n",
       "      <td>text only(to)</td>\n",
       "      <td>rare</td>\n",
       "      <td>action</td>\n",
       "      <td>rare</td>\n",
       "      <td>no_secondary_category</td>\n",
       "      <td>12 PM - 03 PM</td>\n",
       "      <td>2020-04-07</td>\n",
       "      <td>12180.0</td>\n",
       "      <td>Ganga Flows Cleaner As Industrial Discharge Re...</td>\n",
       "    </tr>\n",
       "    <tr>\n",
       "      <th>4</th>\n",
       "      <td>https://business.facebook.com/newjplus/videos/...</td>\n",
       "      <td>muslim residents from odisha's cuttack pelt st...</td>\n",
       "      <td>कोरोना रक्षक बनी पुलिस पर किसने किया पथराव?</td>\n",
       "      <td>commoner (np)</td>\n",
       "      <td>no music</td>\n",
       "      <td>2020-04-07 15:05:00</td>\n",
       "      <td>20392</td>\n",
       "      <td>2020</td>\n",
       "      <td>2</td>\n",
       "      <td>average</td>\n",
       "      <td>...</td>\n",
       "      <td>rare</td>\n",
       "      <td>commoner voice(optv)</td>\n",
       "      <td>other</td>\n",
       "      <td>action</td>\n",
       "      <td>rare</td>\n",
       "      <td>no_secondary_category</td>\n",
       "      <td>3 PM - 6 PM</td>\n",
       "      <td>2020-04-07</td>\n",
       "      <td>12177.0</td>\n",
       "      <td>Muslim Residents From Odisha's Cuttack Pelt St...</td>\n",
       "    </tr>\n",
       "    <tr>\n",
       "      <th>6</th>\n",
       "      <td>https://business.facebook.com/newjplus/videos/...</td>\n",
       "      <td>know what all epidemics emerged from china</td>\n",
       "      <td>कोरोना वायरस से पहले चीन से फैली किन बीमारियों...</td>\n",
       "      <td>commoner (np)</td>\n",
       "      <td>relevant</td>\n",
       "      <td>2020-03-06 19:30:00</td>\n",
       "      <td>12668</td>\n",
       "      <td>2020</td>\n",
       "      <td>1</td>\n",
       "      <td>average</td>\n",
       "      <td>...</td>\n",
       "      <td>rare</td>\n",
       "      <td>text only(to)</td>\n",
       "      <td>commoner</td>\n",
       "      <td>action</td>\n",
       "      <td>health</td>\n",
       "      <td>no_secondary_category</td>\n",
       "      <td>6 PM - 9 PM</td>\n",
       "      <td>2020-03-06</td>\n",
       "      <td>10985.0</td>\n",
       "      <td>Know What All Epidemics Emerged From China</td>\n",
       "    </tr>\n",
       "    <tr>\n",
       "      <th>8</th>\n",
       "      <td>https://business.facebook.com/newjplus/videos/...</td>\n",
       "      <td>the man who hanged the convicts of nirbhaya case</td>\n",
       "      <td>कौन है पवन जल्लाद, जिन्होंने निर्भया के दरिंदो...</td>\n",
       "      <td>commoner (np)</td>\n",
       "      <td>low</td>\n",
       "      <td>2020-03-20 20:05:01</td>\n",
       "      <td>134309</td>\n",
       "      <td>2020</td>\n",
       "      <td>1</td>\n",
       "      <td>high</td>\n",
       "      <td>...</td>\n",
       "      <td>rare</td>\n",
       "      <td>text only(to)</td>\n",
       "      <td>commoner</td>\n",
       "      <td>rare</td>\n",
       "      <td>person specific</td>\n",
       "      <td>rare</td>\n",
       "      <td>6 PM - 9 PM</td>\n",
       "      <td>2020-03-20</td>\n",
       "      <td>11556.0</td>\n",
       "      <td>The Man Who Hanged The Convicts Of Nirbhaya Case</td>\n",
       "    </tr>\n",
       "  </tbody>\n",
       "</table>\n",
       "<p>5 rows × 22 columns</p>\n",
       "</div>"
      ],
      "text/plain": [
       "                                           Permalink  \\\n",
       "0  https://business.facebook.com/watch/?v=6308786...   \n",
       "2  https://business.facebook.com/watch/?v=7335702...   \n",
       "4  https://business.facebook.com/newjplus/videos/...   \n",
       "6  https://business.facebook.com/newjplus/videos/...   \n",
       "8  https://business.facebook.com/newjplus/videos/...   \n",
       "\n",
       "                                             title_x  \\\n",
       "0  us president donald trump requests pm narendra...   \n",
       "2  ganga flows cleaner as industrial discharge re...   \n",
       "4  muslim residents from odisha's cuttack pelt st...   \n",
       "6         know what all epidemics emerged from china   \n",
       "8   the man who hanged the convicts of nirbhaya case   \n",
       "\n",
       "                                         description   visual_first_3_seconds  \\\n",
       "0  ट्रंप ने किया पीएम मोदी को फोन, कोरोना से लड़न...  famous personality (fp)   \n",
       "2  लॉकडाउन के कारण साफ हुई गंगा-यमुना, बदली नदियो...                    other   \n",
       "4        कोरोना रक्षक बनी पुलिस पर किसने किया पथराव?            commoner (np)   \n",
       "6  कोरोना वायरस से पहले चीन से फैली किन बीमारियों...            commoner (np)   \n",
       "8  कौन है पवन जल्लाद, जिन्होंने निर्भया के दरिंदो...            commoner (np)   \n",
       "\n",
       "  background_music_type_first_3_seconds   published_time_ist  seven_day_views  \\\n",
       "0                              no music  2020-04-06 15:10:00           135264   \n",
       "2                                   low  2020-04-07 12:05:00            46277   \n",
       "4                              no music  2020-04-07 15:05:00            20392   \n",
       "6                              relevant  2020-03-06 19:30:00            12668   \n",
       "8                                   low  2020-03-20 20:05:01           134309   \n",
       "\n",
       "   year  quarter   target  ... Video_Type_2_final  \\\n",
       "0  2020        2     high  ...               rare   \n",
       "2  2020        2     high  ...               rare   \n",
       "4  2020        2  average  ...               rare   \n",
       "6  2020        1  average  ...               rare   \n",
       "8  2020        1     high  ...               rare   \n",
       "\n",
       "      voice_first_3_seconds_grouped thumbnail_1_grouped  \\\n",
       "0  voice of famous personality(fpv)  famous personality   \n",
       "2                     text only(to)                rare   \n",
       "4              commoner voice(optv)               other   \n",
       "6                     text only(to)            commoner   \n",
       "8                     text only(to)            commoner   \n",
       "\n",
       "  thumbnail_sentiment_1_grouped Secondary_Category_1_new  \\\n",
       "0                        action       famous personality   \n",
       "2                        action                     rare   \n",
       "4                        action                     rare   \n",
       "6                        action                   health   \n",
       "8                          rare          person specific   \n",
       "\n",
       "  Secondary_Category_2_new time_distribution        date universal_video_id  \\\n",
       "0                     rare       3 PM - 6 PM  2020-04-06            12200.0   \n",
       "2    no_secondary_category     12 PM - 03 PM  2020-04-07            12180.0   \n",
       "4    no_secondary_category       3 PM - 6 PM  2020-04-07            12177.0   \n",
       "6    no_secondary_category       6 PM - 9 PM  2020-03-06            10985.0   \n",
       "8                     rare       6 PM - 9 PM  2020-03-20            11556.0   \n",
       "\n",
       "                                             title_y  \n",
       "0  US President Donald Trump Requests PM Narendra...  \n",
       "2  Ganga Flows Cleaner As Industrial Discharge Re...  \n",
       "4  Muslim Residents From Odisha's Cuttack Pelt St...  \n",
       "6         Know What All Epidemics Emerged From China  \n",
       "8   The Man Who Hanged The Convicts Of Nirbhaya Case  \n",
       "\n",
       "[5 rows x 22 columns]"
      ]
     },
     "execution_count": 65,
     "metadata": {},
     "output_type": "execute_result"
    }
   ],
   "source": [
    "gold_with_uid.head()"
   ]
  },
  {
   "cell_type": "code",
   "execution_count": 67,
   "id": "fixed-selection",
   "metadata": {},
   "outputs": [
    {
     "data": {
      "text/plain": [
       "Permalink                                0\n",
       "title_x                                  0\n",
       "description                              0\n",
       "visual_first_3_seconds                   0\n",
       "background_music_type_first_3_seconds    0\n",
       "published_time_ist                       0\n",
       "seven_day_views                          0\n",
       "year                                     0\n",
       "quarter                                  0\n",
       "target                                   0\n",
       "Primary_Category_1_grouped               0\n",
       "Video_Type_1_1_final                     0\n",
       "Video_Type_2_final                       0\n",
       "voice_first_3_seconds_grouped            0\n",
       "thumbnail_1_grouped                      0\n",
       "thumbnail_sentiment_1_grouped            0\n",
       "Secondary_Category_1_new                 0\n",
       "Secondary_Category_2_new                 0\n",
       "time_distribution                        0\n",
       "date                                     0\n",
       "universal_video_id                       0\n",
       "title_y                                  0\n",
       "dtype: int64"
      ]
     },
     "execution_count": 67,
     "metadata": {},
     "output_type": "execute_result"
    }
   ],
   "source": [
    "gold_with_uid.isnull().sum()"
   ]
  },
  {
   "cell_type": "code",
   "execution_count": 68,
   "id": "shared-translator",
   "metadata": {},
   "outputs": [
    {
     "data": {
      "text/plain": [
       "'2020-12-10'"
      ]
     },
     "execution_count": 68,
     "metadata": {},
     "output_type": "execute_result"
    }
   ],
   "source": [
    "gold_with_uid.date.max()"
   ]
  },
  {
   "cell_type": "code",
   "execution_count": 69,
   "id": "radical-bottle",
   "metadata": {},
   "outputs": [
    {
     "data": {
      "text/plain": [
       "'2019-05-20'"
      ]
     },
     "execution_count": 69,
     "metadata": {},
     "output_type": "execute_result"
    }
   ],
   "source": [
    "gold_with_uid.date.min()"
   ]
  },
  {
   "cell_type": "code",
   "execution_count": null,
   "id": "north-snake",
   "metadata": {},
   "outputs": [],
   "source": []
  }
 ],
 "metadata": {
  "kernelspec": {
   "display_name": "Python 3",
   "language": "python",
   "name": "python3"
  },
  "language_info": {
   "codemirror_mode": {
    "name": "ipython",
    "version": 3
   },
   "file_extension": ".py",
   "mimetype": "text/x-python",
   "name": "python",
   "nbconvert_exporter": "python",
   "pygments_lexer": "ipython3",
   "version": "3.7.9"
  }
 },
 "nbformat": 4,
 "nbformat_minor": 5
}
